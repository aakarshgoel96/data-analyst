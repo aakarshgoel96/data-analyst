{
 "cells": [
  {
   "cell_type": "markdown",
   "metadata": {},
   "source": [
    "# Project 1- Test a Perceptual Phenomenon\n",
    "\n",
    "## Background Information\n",
    "\n",
    "In a Stroop task, participants are presented with a list of words, with each word displayed in a color of ink. The participant’s task is to say out loud the color of the ink in which the word is printed. The task has two conditions: a congruent words condition, and an incongruent words condition. In the congruent words condition, the words being displayed are color words whose names match the colors in which they are printed: for example RED, BLUE. In the incongruent words condition, the words displayed are color words whose names do not match the colors in which they are printed: for example PURPLE, ORANGE. In each case, we measure the time it takes to name the ink colors in equally-sized lists. Each participant will go through and record a time from each condition."
   ]
  },
  {
   "cell_type": "code",
   "execution_count": 21,
   "metadata": {
    "collapsed": false
   },
   "outputs": [],
   "source": [
    "# import all necessary packages and functions.\n",
    "import csv\n",
    "import numpy as np\n",
    "import pandas as pd\n",
    "from scipy import stats\n",
    "import math\n",
    "from IPython.display import display\n",
    "%matplotlib inline\n",
    "import matplotlib.pyplot as plt"
   ]
  },
  {
   "cell_type": "code",
   "execution_count": 22,
   "metadata": {
    "collapsed": false
   },
   "outputs": [
    {
     "data": {
      "text/html": [
       "<div>\n",
       "<table border=\"1\" class=\"dataframe\">\n",
       "  <thead>\n",
       "    <tr style=\"text-align: right;\">\n",
       "      <th></th>\n",
       "      <th>Congruent</th>\n",
       "      <th>Incongruent</th>\n",
       "      <th>Difference</th>\n",
       "      <th>participant_no</th>\n",
       "    </tr>\n",
       "  </thead>\n",
       "  <tbody>\n",
       "    <tr>\n",
       "      <th>0</th>\n",
       "      <td>12.079</td>\n",
       "      <td>19.278</td>\n",
       "      <td>7.199</td>\n",
       "      <td>1</td>\n",
       "    </tr>\n",
       "    <tr>\n",
       "      <th>1</th>\n",
       "      <td>16.791</td>\n",
       "      <td>18.741</td>\n",
       "      <td>1.950</td>\n",
       "      <td>2</td>\n",
       "    </tr>\n",
       "    <tr>\n",
       "      <th>2</th>\n",
       "      <td>9.564</td>\n",
       "      <td>21.214</td>\n",
       "      <td>11.650</td>\n",
       "      <td>3</td>\n",
       "    </tr>\n",
       "    <tr>\n",
       "      <th>3</th>\n",
       "      <td>8.630</td>\n",
       "      <td>15.687</td>\n",
       "      <td>7.057</td>\n",
       "      <td>4</td>\n",
       "    </tr>\n",
       "    <tr>\n",
       "      <th>4</th>\n",
       "      <td>14.669</td>\n",
       "      <td>22.803</td>\n",
       "      <td>8.134</td>\n",
       "      <td>5</td>\n",
       "    </tr>\n",
       "    <tr>\n",
       "      <th>5</th>\n",
       "      <td>12.238</td>\n",
       "      <td>20.878</td>\n",
       "      <td>8.640</td>\n",
       "      <td>6</td>\n",
       "    </tr>\n",
       "    <tr>\n",
       "      <th>6</th>\n",
       "      <td>14.692</td>\n",
       "      <td>24.572</td>\n",
       "      <td>9.880</td>\n",
       "      <td>7</td>\n",
       "    </tr>\n",
       "    <tr>\n",
       "      <th>7</th>\n",
       "      <td>8.987</td>\n",
       "      <td>17.394</td>\n",
       "      <td>8.407</td>\n",
       "      <td>8</td>\n",
       "    </tr>\n",
       "    <tr>\n",
       "      <th>8</th>\n",
       "      <td>9.401</td>\n",
       "      <td>20.762</td>\n",
       "      <td>11.361</td>\n",
       "      <td>9</td>\n",
       "    </tr>\n",
       "    <tr>\n",
       "      <th>9</th>\n",
       "      <td>14.480</td>\n",
       "      <td>26.282</td>\n",
       "      <td>11.802</td>\n",
       "      <td>10</td>\n",
       "    </tr>\n",
       "    <tr>\n",
       "      <th>10</th>\n",
       "      <td>22.328</td>\n",
       "      <td>24.524</td>\n",
       "      <td>2.196</td>\n",
       "      <td>11</td>\n",
       "    </tr>\n",
       "    <tr>\n",
       "      <th>11</th>\n",
       "      <td>15.298</td>\n",
       "      <td>18.644</td>\n",
       "      <td>3.346</td>\n",
       "      <td>12</td>\n",
       "    </tr>\n",
       "    <tr>\n",
       "      <th>12</th>\n",
       "      <td>15.073</td>\n",
       "      <td>17.510</td>\n",
       "      <td>2.437</td>\n",
       "      <td>13</td>\n",
       "    </tr>\n",
       "    <tr>\n",
       "      <th>13</th>\n",
       "      <td>16.929</td>\n",
       "      <td>20.330</td>\n",
       "      <td>3.401</td>\n",
       "      <td>14</td>\n",
       "    </tr>\n",
       "    <tr>\n",
       "      <th>14</th>\n",
       "      <td>18.200</td>\n",
       "      <td>35.255</td>\n",
       "      <td>17.055</td>\n",
       "      <td>15</td>\n",
       "    </tr>\n",
       "    <tr>\n",
       "      <th>15</th>\n",
       "      <td>12.130</td>\n",
       "      <td>22.158</td>\n",
       "      <td>10.028</td>\n",
       "      <td>16</td>\n",
       "    </tr>\n",
       "    <tr>\n",
       "      <th>16</th>\n",
       "      <td>18.495</td>\n",
       "      <td>25.139</td>\n",
       "      <td>6.644</td>\n",
       "      <td>17</td>\n",
       "    </tr>\n",
       "    <tr>\n",
       "      <th>17</th>\n",
       "      <td>10.639</td>\n",
       "      <td>20.429</td>\n",
       "      <td>9.790</td>\n",
       "      <td>18</td>\n",
       "    </tr>\n",
       "    <tr>\n",
       "      <th>18</th>\n",
       "      <td>11.344</td>\n",
       "      <td>17.425</td>\n",
       "      <td>6.081</td>\n",
       "      <td>19</td>\n",
       "    </tr>\n",
       "    <tr>\n",
       "      <th>19</th>\n",
       "      <td>12.369</td>\n",
       "      <td>34.288</td>\n",
       "      <td>21.919</td>\n",
       "      <td>20</td>\n",
       "    </tr>\n",
       "    <tr>\n",
       "      <th>20</th>\n",
       "      <td>12.944</td>\n",
       "      <td>23.894</td>\n",
       "      <td>10.950</td>\n",
       "      <td>21</td>\n",
       "    </tr>\n",
       "    <tr>\n",
       "      <th>21</th>\n",
       "      <td>14.233</td>\n",
       "      <td>17.960</td>\n",
       "      <td>3.727</td>\n",
       "      <td>22</td>\n",
       "    </tr>\n",
       "    <tr>\n",
       "      <th>22</th>\n",
       "      <td>19.710</td>\n",
       "      <td>22.058</td>\n",
       "      <td>2.348</td>\n",
       "      <td>23</td>\n",
       "    </tr>\n",
       "    <tr>\n",
       "      <th>23</th>\n",
       "      <td>16.004</td>\n",
       "      <td>21.157</td>\n",
       "      <td>5.153</td>\n",
       "      <td>24</td>\n",
       "    </tr>\n",
       "  </tbody>\n",
       "</table>\n",
       "</div>"
      ],
      "text/plain": [
       "    Congruent  Incongruent  Difference  participant_no\n",
       "0      12.079       19.278       7.199               1\n",
       "1      16.791       18.741       1.950               2\n",
       "2       9.564       21.214      11.650               3\n",
       "3       8.630       15.687       7.057               4\n",
       "4      14.669       22.803       8.134               5\n",
       "5      12.238       20.878       8.640               6\n",
       "6      14.692       24.572       9.880               7\n",
       "7       8.987       17.394       8.407               8\n",
       "8       9.401       20.762      11.361               9\n",
       "9      14.480       26.282      11.802              10\n",
       "10     22.328       24.524       2.196              11\n",
       "11     15.298       18.644       3.346              12\n",
       "12     15.073       17.510       2.437              13\n",
       "13     16.929       20.330       3.401              14\n",
       "14     18.200       35.255      17.055              15\n",
       "15     12.130       22.158      10.028              16\n",
       "16     18.495       25.139       6.644              17\n",
       "17     10.639       20.429       9.790              18\n",
       "18     11.344       17.425       6.081              19\n",
       "19     12.369       34.288      21.919              20\n",
       "20     12.944       23.894      10.950              21\n",
       "21     14.233       17.960       3.727              22\n",
       "22     19.710       22.058       2.348              23\n",
       "23     16.004       21.157       5.153              24"
      ]
     },
     "metadata": {},
     "output_type": "display_data"
    }
   ],
   "source": [
    "#data of different participants in stroop task\n",
    "data = pd.read_csv('stroopdata.csv')\n",
    "data['Difference'] = data['Incongruent'] - data['Congruent']\n",
    "data['participant_no'] = data.index + 1\n",
    "display(data)"
   ]
  },
  {
   "cell_type": "markdown",
   "metadata": {
    "collapsed": true
   },
   "source": [
    "## 1. What is our independent variable? What is our dependent variable?\n",
    "\n",
    "**Answer** \n",
    "Independent variable will be the list of words in both the test i.e congruent and incongruent.\n",
    "Dependent variable is which is find as an outcome i.e time recorded for each condition.\n",
    "\n",
    "## 2. What is an appropriate set of hypotheses for this task? What kind of statistical test do you expect to perform? Justify your choices.\n",
    "\n",
    "**Answer**\n",
    "> Hypothesis for this task:\n",
    "\n",
    "H0(null Hypothesis)=> u0(incongruent mean)-u0(congruent mean)<=0\n",
    ">u0 stands for average population mean \n",
    "No difference in avg population response time to satisfy H0\n",
    "\n",
    "HA(alternative Hypothesis)=> u0(incongruent mean)-u0(congruent mean)>0 \n",
    "> Difference in (+)ve direction for avg response time in incongruent and congruent to satisfy HA according to stroop effect.\n",
    "\n",
    "Here u0(population response time) is unknown so z-test is not possible\n",
    "Since each person has to do both the tasks therefore these are dependent.\n",
    "The dependent t-test compares the means of two related groups to determine whether there is a statistically significant difference between these means.\n",
    "We can compare two means from 2 samples for pre-test period and post-test period, which is the most appropriate task for dependent sample t-Test.\n",
    "Since it is evident from the above sample data given for 24 people that time taken in Incongruent task will be higher than congruent one due interference between different information.\n",
    "Also above data is roughly normally distributed.\n",
    "So one-tailed dependent t-test is most suitable from above implications.\n",
    "\n",
    "\n",
    "## 3. Report some descriptive statistics regarding this dataset. Include at least one measure of central tendency and at least one measure of variability.\n",
    "\n",
    "We can apply descriptive satistics to this sample dataset to find out the tendency and variability of the dataset.\n",
    "\n",
    ">Central Tendency\n",
    "\n",
    "Best measure for central tendency will be mean and median.\n",
    "mean congruent = uc ;\n",
    "mean incongruent = ui ;\n",
    "median congruent = mc ;\n",
    "median incongruent = mi ;\n",
    "mean difference  = ud ;\n",
    "median difference = md ;"
   ]
  },
  {
   "cell_type": "code",
   "execution_count": 8,
   "metadata": {
    "collapsed": false
   },
   "outputs": [
    {
     "name": "stdout",
     "output_type": "stream",
     "text": [
      "14.051125\n"
     ]
    }
   ],
   "source": [
    "#uc\n",
    "print data['Congruent'].mean()"
   ]
  },
  {
   "cell_type": "code",
   "execution_count": 9,
   "metadata": {
    "collapsed": false
   },
   "outputs": [
    {
     "name": "stdout",
     "output_type": "stream",
     "text": [
      "22.0159166667\n"
     ]
    }
   ],
   "source": [
    "#ui\n",
    "print data['Incongruent'].mean()"
   ]
  },
  {
   "cell_type": "code",
   "execution_count": 11,
   "metadata": {
    "collapsed": false
   },
   "outputs": [
    {
     "name": "stdout",
     "output_type": "stream",
     "text": [
      "7.96479166667\n"
     ]
    }
   ],
   "source": [
    "#ud\n",
    "print data['Difference'].mean()"
   ]
  },
  {
   "cell_type": "code",
   "execution_count": 12,
   "metadata": {
    "collapsed": false
   },
   "outputs": [
    {
     "name": "stdout",
     "output_type": "stream",
     "text": [
      "14.3565\n"
     ]
    }
   ],
   "source": [
    "#mc\n",
    "print data['Congruent'].median()"
   ]
  },
  {
   "cell_type": "code",
   "execution_count": 13,
   "metadata": {
    "collapsed": false
   },
   "outputs": [
    {
     "name": "stdout",
     "output_type": "stream",
     "text": [
      "21.0175\n"
     ]
    }
   ],
   "source": [
    "#mi\n",
    "print data['Incongruent'].median()"
   ]
  },
  {
   "cell_type": "code",
   "execution_count": 14,
   "metadata": {
    "collapsed": false
   },
   "outputs": [
    {
     "name": "stdout",
     "output_type": "stream",
     "text": [
      "7.6665\n"
     ]
    }
   ],
   "source": [
    "#md\n",
    "print data['Difference'].median()"
   ]
  },
  {
   "cell_type": "markdown",
   "metadata": {},
   "source": [
    "Its central tendency is good as median is quite close mean in both the types Congruent and Incongruent as well as in their difference."
   ]
  },
  {
   "cell_type": "markdown",
   "metadata": {},
   "source": [
    "> Variability\n",
    "\n",
    "Finding Standard deviation is best approach for visualising variability in the dataset."
   ]
  },
  {
   "cell_type": "code",
   "execution_count": 15,
   "metadata": {
    "collapsed": false
   },
   "outputs": [
    {
     "name": "stdout",
     "output_type": "stream",
     "text": [
      "3.55935795765\n"
     ]
    }
   ],
   "source": [
    "#sc\n",
    "print data['Congruent'].std()"
   ]
  },
  {
   "cell_type": "code",
   "execution_count": 16,
   "metadata": {
    "collapsed": false
   },
   "outputs": [
    {
     "name": "stdout",
     "output_type": "stream",
     "text": [
      "4.79705712247\n"
     ]
    }
   ],
   "source": [
    "#si\n",
    "print data['Incongruent'].std()"
   ]
  },
  {
   "cell_type": "code",
   "execution_count": 17,
   "metadata": {
    "collapsed": false
   },
   "outputs": [
    {
     "name": "stdout",
     "output_type": "stream",
     "text": [
      "4.86482691036\n"
     ]
    }
   ],
   "source": [
    "#sd\n",
    "print data['Difference'].std()"
   ]
  },
  {
   "cell_type": "markdown",
   "metadata": {},
   "source": [
    "Standard deviation (variability) is high in incongruent data compared to Congruent data."
   ]
  },
  {
   "cell_type": "markdown",
   "metadata": {},
   "source": [
    "## 4. Provide one or two visualizations that show the distribution of the sample data. Write one or two sentences noting what you observe about the plot or plots."
   ]
  },
  {
   "cell_type": "code",
   "execution_count": 20,
   "metadata": {
    "collapsed": false
   },
   "outputs": [
    {
     "data": {
      "image/png": "[encoded data removed]",
      "text/plain": [
       "<matplotlib.figure.Figure at 0x7feb9e4623d0>"
      ]
     },
     "metadata": {},
     "output_type": "display_data"
    }
   ],
   "source": [
    "plt.plot(data['participant_no'], data['Difference'],'o')\n",
    "plt.title('Difference of response times of congruent from incongruent tasks')\n",
    "plt.xlabel('participant no')\n",
    "plt.ylabel('Difference in Response time (s)')\n",
    "plt.grid()"
   ]
  },
  {
   "cell_type": "markdown",
   "metadata": {},
   "source": [
    ">The above graphs illustrates the difference in response time for the congruent and incongruent tasks, respectively. It can be easily observed that on average the incongruent tasks takes longer than congruent tasks around 7.96 sec on average.\n",
    "Difference in response time for incongruent and congruent varies for each person and it is observed to have (+)ve value."
   ]
  },
  {
   "cell_type": "markdown",
   "metadata": {},
   "source": [
    "## 5. Now, perform the statistical test and report your results. What is your confidence level and your critical statistic value? Do you reject the null hypothesis or fail to reject it? Come to a conclusion in terms of the experiment task. Did the results match up with your expectations?\n",
    "\n",
    "We will do one-tailed dependent t-test with alpha=0.05 ,df=23"
   ]
  },
  {
   "cell_type": "code",
   "execution_count": 85,
   "metadata": {
    "collapsed": false,
    "scrolled": true
   },
   "outputs": [
    {
     "name": "stdout",
     "output_type": "stream",
     "text": [
      "8.02070694411\n"
     ]
    }
   ],
   "source": [
    "# Degrees of freedom\n",
    "df = 23\n",
    "\n",
    "# Alpha level criterion\n",
    "alpha = 0.05\n",
    "\n",
    "# Mean of differences\n",
    "x = data[\"Difference\"].mean()\n",
    "\n",
    "# standard deviation of differences\n",
    "s = data[\"Difference\"].std()\n",
    "\n",
    "# Standard Error\n",
    "SE = s / math.sqrt(df+1)\n",
    "\n",
    "# t statistic\n",
    "t_stat = x / SE;\n",
    "print t_stat\n"
   ]
  },
  {
   "cell_type": "code",
   "execution_count": 86,
   "metadata": {
    "collapsed": false
   },
   "outputs": [
    {
     "name": "stdout",
     "output_type": "stream",
     "text": [
      "1.71387152775\n"
     ]
    }
   ],
   "source": [
    "# t critical values\n",
    "t_crit = stats.t.ppf(1-alpha, df)\n",
    "# used to find t- critical values 1-aplha = 0.95\n",
    "print t_crit"
   ]
  },
  {
   "cell_type": "code",
   "execution_count": 87,
   "metadata": {
    "collapsed": false
   },
   "outputs": [
    {
     "name": "stdout",
     "output_type": "stream",
     "text": [
      "2.05150029187e-08\n"
     ]
    }
   ],
   "source": [
    "# p value\n",
    "p = 1 - stats.t.cdf(t_stat, df);\n",
    "print p"
   ]
  },
  {
   "cell_type": "markdown",
   "metadata": {},
   "source": [
    "Since 1.714 < 8.021 => t-critical< t-stat.\n",
    "p value is also very small which implies that confidence level is quite high i.e tending to 100%."
   ]
  },
  {
   "cell_type": "raw",
   "metadata": {},
   "source": [
    "*** Result***\n",
    "We reject null Hypothesis H0 as we found much difference in our t-test. So from that it is clear that there will always be difference b/w congruent and Incongruent test in (+)ve direction i.e longer time in naming ink colour in Incongruent words condition.\n",
    "\n",
    "Yes, obviously result matched up to my expectation as its evident from visualization only that difference b/w incongruent and congruent is always (+)ve and quite high than critical value."
   ]
  },
  {
   "cell_type": "markdown",
   "metadata": {},
   "source": [
    "## 6. Optional: What do you think is responsible for the effects observed? Can you think of an alternative or similar task that would result in a similar effect? Some research about the problem will be helpful for thinking about these two questions!\n",
    "\n",
    "Since in congruent words no distraction is there i.e colour is same as the text so its easy and fast to complete but incongruent words make human mind to process and differentiate, increasing response time.\n",
    "\n",
    "For the same effect we can use different text sizes or type instead of colour like big, small, meduim or bold, italic or underline, also we can apply in mathematical polygons like square, rectangles, triangles etc."
   ]
  },
  {
   "cell_type": "code",
   "execution_count": null,
   "metadata": {
    "collapsed": true
   },
   "outputs": [],
   "source": []
  }
 ],
 "metadata": {
  "kernelspec": {
   "display_name": "Python [default]",
   "language": "python",
   "name": "python2"
  },
  "language_info": {
   "codemirror_mode": {
    "name": "ipython",
    "version": 2
   },
   "file_extension": ".py",
   "mimetype": "text/x-python",
   "name": "python",
   "nbconvert_exporter": "python",
   "pygments_lexer": "ipython2",
   "version": "2.7.12"
  }
 },
 "nbformat": 4,
 "nbformat_minor": 1
}
