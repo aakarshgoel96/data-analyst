{
 "cells": [
  {
   "cell_type": "code",
   "execution_count": 78,
   "metadata": {
    "collapsed": true
   },
   "outputs": [],
   "source": [
    "import sys\n",
    "import pickle\n",
    "import numpy\n",
    "import pandas\n",
    "import sklearn\n",
    "import matplotlib \n",
    "from sklearn import metrics\n",
    "from sklearn.pipeline import Pipeline\n",
    "from sklearn.preprocessing import StandardScaler\n",
    "from sklearn.metrics import accuracy_score, precision_score, recall_score\n",
    "from numpy import mean"
   ]
  },
  {
   "cell_type": "code",
   "execution_count": 79,
   "metadata": {
    "collapsed": true
   },
   "outputs": [],
   "source": [
    "sys.path.append(\"../tools/\")\n",
    "\n",
    "from feature_format import featureFormat, targetFeatureSplit\n",
    "from tester import dump_classifier_and_data\n",
    "from sklearn import cross_validation\n",
    "from sklearn import datasets"
   ]
  },
  {
   "cell_type": "code",
   "execution_count": 80,
   "metadata": {
    "collapsed": false
   },
   "outputs": [
    {
     "data": {
      "text/plain": [
       "'Task 1: Select what features you\\'ll use.\\n features_list is a list of strings, each of which is a feature name.\\n The first feature must be \"poi\".'"
      ]
     },
     "execution_count": 80,
     "metadata": {},
     "output_type": "execute_result"
    }
   ],
   "source": [
    "'''Task 1: Select what features you'll use.\n",
    " features_list is a list of strings, each of which is a feature name.\n",
    " The first feature must be \"poi\".'''"
   ]
  },
  {
   "cell_type": "code",
   "execution_count": 53,
   "metadata": {
    "collapsed": true
   },
   "outputs": [],
   "source": [
    "features_list = ['poi','salary','to_messages','total_payments','exercised_stock_options','bonus',\n",
    "'restricted_stock','shared_receipt_with_poi','restricted_stock_deferred','total_stock_value','expenses',\n",
    "'loan_advances','from_messages','from_this_person_to_poi','poi','director_fees','deferred_income',\n",
    "'from_poi_to_this_person']# You will need to use more features\n",
    "\n"
   ]
  },
  {
   "cell_type": "code",
   "execution_count": 77,
   "metadata": {
    "collapsed": false
   },
   "outputs": [
    {
     "data": {
      "text/plain": [
       "0                METTS MARK\n",
       "1             BAXTER JOHN C\n",
       "2            ELLIOTT STEVEN\n",
       "3          CORDES WILLIAM R\n",
       "4            HANNON KEVIN P\n",
       "5       MORDAUNT KRISTINA M\n",
       "6          MEYER ROCKFORD G\n",
       "7           MCMAHON JEFFREY\n",
       "8          HORTON STANLEY C\n",
       "9           PIPER GREGORY F\n",
       "10          HUMPHREY GENE E\n",
       "11           UMANOFF ADAM S\n",
       "12        BLACHMAN JEREMY M\n",
       "13             SUNDE MARTIN\n",
       "14             GIBBS DANA R\n",
       "15          LOWRY CHARLES P\n",
       "16           COLWELL WESLEY\n",
       "17            MULLER MARK S\n",
       "18       JACKSON CHARLENE R\n",
       "19       WESTFAHL RICHARD K\n",
       "20         WALTERS GARETH W\n",
       "21        WALLS JR ROBERT H\n",
       "22           KITCHEN LOUISE\n",
       "23              CHAN RONNIE\n",
       "24            BELFER ROBERT\n",
       "25       SHANKMAN JEFFREY A\n",
       "26            WODRASKA JOHN\n",
       "27     BERGSIEKER RICHARD P\n",
       "28          URQUHART JOHN A\n",
       "29          BIBI PHILIPPE A\n",
       "               ...         \n",
       "116       REYNOLDS LAWRENCE\n",
       "117     DIMICHELE RICHARD G\n",
       "118        BHATNAGAR SANJAY\n",
       "119        CARTER REBECCA C\n",
       "120       BUCHANAN HAROLD G\n",
       "121               YEAP SOON\n",
       "122          MURRAY JULIA H\n",
       "123         GARLAND C KEVIN\n",
       "124            DODSON KEITH\n",
       "125          YEAGER F SCOTT\n",
       "126            HIRKO JOSEPH\n",
       "127        DIETRICH JANET R\n",
       "128     DERRICK JR. JAMES V\n",
       "129          FREVERT MARK A\n",
       "130               PAI LOU L\n",
       "131          BAY FRANKLIN R\n",
       "132     HAYSLETT RODERICK J\n",
       "133             FUGH JOHN L\n",
       "134          FALLON JAMES B\n",
       "135           KOENIG MARK E\n",
       "136            SAVAGE FRANK\n",
       "137         IZZO LAWRENCE L\n",
       "138      TILNEY ELIZABETH A\n",
       "139         MARTIN AMANDA K\n",
       "140           BUY RICHARD B\n",
       "141           GRAMM WENDY L\n",
       "142        CAUSEY RICHARD A\n",
       "143       TAYLOR MITCHELL S\n",
       "144    DONAHUE JR JEFFREY M\n",
       "145         GLISAN JR BEN F\n",
       "dtype: object"
      ]
     },
     "execution_count": 77,
     "metadata": {},
     "output_type": "execute_result"
    }
   ],
   "source": [
    "### Load the dictionary containing the dataset\n",
    "with open(\"final_project_dataset.pkl\", \"r\") as data_file:\n",
    "    data_dict = pickle.load(data_file)\n",
    "df = pandas.DataFrame.from_records(list(data_dict.values()))\n",
    "persons = pandas.Series(list(data_dict.keys()))\n",
    "persons"
   ]
  },
  {
   "cell_type": "code",
   "execution_count": 55,
   "metadata": {
    "collapsed": false
   },
   "outputs": [
    {
     "name": "stdout",
     "output_type": "stream",
     "text": [
      "       bonus  deferral_payments  deferred_income  director_fees  \\\n",
      "0   600000.0                NaN              NaN            NaN   \n",
      "1  1200000.0          1295738.0       -1386055.0            NaN   \n",
      "2   350000.0                NaN        -400729.0            NaN   \n",
      "3        NaN                NaN              NaN            NaN   \n",
      "4  1500000.0                NaN       -3117011.0            NaN   \n",
      "\n",
      "              email_address  exercised_stock_options  expenses  from_messages  \\\n",
      "0      mark.metts@enron.com                      NaN   94299.0           29.0   \n",
      "1                       NaN                6680544.0   11200.0            NaN   \n",
      "2  steven.elliott@enron.com                4890344.0   78552.0            NaN   \n",
      "3     bill.cordes@enron.com                 651850.0       NaN           12.0   \n",
      "4    kevin.hannon@enron.com                5538001.0   34039.0           32.0   \n",
      "\n",
      "   from_poi_to_this_person  from_this_person_to_poi        ...          \\\n",
      "0                     38.0                      1.0        ...           \n",
      "1                      NaN                      NaN        ...           \n",
      "2                      NaN                      NaN        ...           \n",
      "3                     10.0                      0.0        ...           \n",
      "4                     32.0                     21.0        ...           \n",
      "\n",
      "   long_term_incentive      other    poi restricted_stock  \\\n",
      "0                  NaN     1740.0  False         585062.0   \n",
      "1            1586055.0  2660303.0  False        3942714.0   \n",
      "2                  NaN    12961.0  False        1788391.0   \n",
      "3                  NaN        NaN  False         386335.0   \n",
      "4            1617011.0    11350.0   True         853064.0   \n",
      "\n",
      "   restricted_stock_deferred    salary  shared_receipt_with_poi  to_messages  \\\n",
      "0                        NaN  365788.0                    702.0        807.0   \n",
      "1                        NaN  267102.0                      NaN          NaN   \n",
      "2                        NaN  170941.0                      NaN          NaN   \n",
      "3                        NaN       NaN                     58.0        764.0   \n",
      "4                        NaN  243293.0                   1035.0       1045.0   \n",
      "\n",
      "   total_payments  total_stock_value  \n",
      "0       1061827.0           585062.0  \n",
      "1       5634343.0         10623258.0  \n",
      "2        211725.0          6678735.0  \n",
      "3             NaN          1038185.0  \n",
      "4        288682.0          6391065.0  \n",
      "\n",
      "[5 rows x 21 columns]\n"
     ]
    }
   ],
   "source": [
    "df.replace(to_replace='NaN', value=numpy.nan, inplace=True)\n",
    "print df.head()\n"
   ]
  },
  {
   "cell_type": "code",
   "execution_count": 56,
   "metadata": {
    "collapsed": false
   },
   "outputs": [
    {
     "name": "stdout",
     "output_type": "stream",
     "text": [
      "bonus                         64\n",
      "deferral_payments            107\n",
      "deferred_income               97\n",
      "director_fees                129\n",
      "email_address                 35\n",
      "exercised_stock_options       44\n",
      "expenses                      51\n",
      "from_messages                 60\n",
      "from_poi_to_this_person       60\n",
      "from_this_person_to_poi       60\n",
      "loan_advances                142\n",
      "long_term_incentive           80\n",
      "other                         53\n",
      "poi                            0\n",
      "restricted_stock              36\n",
      "restricted_stock_deferred    128\n",
      "salary                        51\n",
      "shared_receipt_with_poi       60\n",
      "to_messages                   60\n",
      "total_payments                21\n",
      "total_stock_value             20\n",
      "dtype: int64\n"
     ]
    }
   ],
   "source": [
    "print df.isnull().sum()\n"
   ]
  },
  {
   "cell_type": "code",
   "execution_count": 57,
   "metadata": {
    "collapsed": false
   },
   "outputs": [
    {
     "name": "stdout",
     "output_type": "stream",
     "text": [
      "(146, 21)\n"
     ]
    }
   ],
   "source": [
    "print df.shape"
   ]
  },
  {
   "cell_type": "code",
   "execution_count": 58,
   "metadata": {
    "collapsed": false,
    "scrolled": true
   },
   "outputs": [
    {
     "data": {
      "text/html": [
       "<div>\n",
       "<table border=\"1\" class=\"dataframe\">\n",
       "  <thead>\n",
       "    <tr style=\"text-align: right;\">\n",
       "      <th></th>\n",
       "      <th>bonus</th>\n",
       "      <th>exercised_stock_options</th>\n",
       "      <th>expenses</th>\n",
       "      <th>from_messages</th>\n",
       "      <th>from_poi_to_this_person</th>\n",
       "      <th>from_this_person_to_poi</th>\n",
       "      <th>other</th>\n",
       "      <th>poi</th>\n",
       "      <th>restricted_stock</th>\n",
       "      <th>salary</th>\n",
       "      <th>shared_receipt_with_poi</th>\n",
       "      <th>to_messages</th>\n",
       "      <th>total_payments</th>\n",
       "      <th>total_stock_value</th>\n",
       "    </tr>\n",
       "  </thead>\n",
       "  <tbody>\n",
       "    <tr>\n",
       "      <th>0</th>\n",
       "      <td>600000.0</td>\n",
       "      <td>NaN</td>\n",
       "      <td>94299.0</td>\n",
       "      <td>29.0</td>\n",
       "      <td>38.0</td>\n",
       "      <td>1.0</td>\n",
       "      <td>1740.0</td>\n",
       "      <td>False</td>\n",
       "      <td>585062.0</td>\n",
       "      <td>365788.0</td>\n",
       "      <td>702.0</td>\n",
       "      <td>807.0</td>\n",
       "      <td>1061827.0</td>\n",
       "      <td>585062.0</td>\n",
       "    </tr>\n",
       "    <tr>\n",
       "      <th>1</th>\n",
       "      <td>1200000.0</td>\n",
       "      <td>6680544.0</td>\n",
       "      <td>11200.0</td>\n",
       "      <td>NaN</td>\n",
       "      <td>NaN</td>\n",
       "      <td>NaN</td>\n",
       "      <td>2660303.0</td>\n",
       "      <td>False</td>\n",
       "      <td>3942714.0</td>\n",
       "      <td>267102.0</td>\n",
       "      <td>NaN</td>\n",
       "      <td>NaN</td>\n",
       "      <td>5634343.0</td>\n",
       "      <td>10623258.0</td>\n",
       "    </tr>\n",
       "    <tr>\n",
       "      <th>2</th>\n",
       "      <td>350000.0</td>\n",
       "      <td>4890344.0</td>\n",
       "      <td>78552.0</td>\n",
       "      <td>NaN</td>\n",
       "      <td>NaN</td>\n",
       "      <td>NaN</td>\n",
       "      <td>12961.0</td>\n",
       "      <td>False</td>\n",
       "      <td>1788391.0</td>\n",
       "      <td>170941.0</td>\n",
       "      <td>NaN</td>\n",
       "      <td>NaN</td>\n",
       "      <td>211725.0</td>\n",
       "      <td>6678735.0</td>\n",
       "    </tr>\n",
       "    <tr>\n",
       "      <th>3</th>\n",
       "      <td>NaN</td>\n",
       "      <td>651850.0</td>\n",
       "      <td>NaN</td>\n",
       "      <td>12.0</td>\n",
       "      <td>10.0</td>\n",
       "      <td>0.0</td>\n",
       "      <td>NaN</td>\n",
       "      <td>False</td>\n",
       "      <td>386335.0</td>\n",
       "      <td>NaN</td>\n",
       "      <td>58.0</td>\n",
       "      <td>764.0</td>\n",
       "      <td>NaN</td>\n",
       "      <td>1038185.0</td>\n",
       "    </tr>\n",
       "    <tr>\n",
       "      <th>4</th>\n",
       "      <td>1500000.0</td>\n",
       "      <td>5538001.0</td>\n",
       "      <td>34039.0</td>\n",
       "      <td>32.0</td>\n",
       "      <td>32.0</td>\n",
       "      <td>21.0</td>\n",
       "      <td>11350.0</td>\n",
       "      <td>True</td>\n",
       "      <td>853064.0</td>\n",
       "      <td>243293.0</td>\n",
       "      <td>1035.0</td>\n",
       "      <td>1045.0</td>\n",
       "      <td>288682.0</td>\n",
       "      <td>6391065.0</td>\n",
       "    </tr>\n",
       "  </tbody>\n",
       "</table>\n",
       "</div>"
      ],
      "text/plain": [
       "       bonus  exercised_stock_options  expenses  from_messages  \\\n",
       "0   600000.0                      NaN   94299.0           29.0   \n",
       "1  1200000.0                6680544.0   11200.0            NaN   \n",
       "2   350000.0                4890344.0   78552.0            NaN   \n",
       "3        NaN                 651850.0       NaN           12.0   \n",
       "4  1500000.0                5538001.0   34039.0           32.0   \n",
       "\n",
       "   from_poi_to_this_person  from_this_person_to_poi      other    poi  \\\n",
       "0                     38.0                      1.0     1740.0  False   \n",
       "1                      NaN                      NaN  2660303.0  False   \n",
       "2                      NaN                      NaN    12961.0  False   \n",
       "3                     10.0                      0.0        NaN  False   \n",
       "4                     32.0                     21.0    11350.0   True   \n",
       "\n",
       "   restricted_stock    salary  shared_receipt_with_poi  to_messages  \\\n",
       "0          585062.0  365788.0                    702.0        807.0   \n",
       "1         3942714.0  267102.0                      NaN          NaN   \n",
       "2         1788391.0  170941.0                      NaN          NaN   \n",
       "3          386335.0       NaN                     58.0        764.0   \n",
       "4          853064.0  243293.0                   1035.0       1045.0   \n",
       "\n",
       "   total_payments  total_stock_value  \n",
       "0       1061827.0           585062.0  \n",
       "1       5634343.0         10623258.0  \n",
       "2        211725.0          6678735.0  \n",
       "3             NaN          1038185.0  \n",
       "4        288682.0          6391065.0  "
      ]
     },
     "execution_count": 58,
     "metadata": {},
     "output_type": "execute_result"
    }
   ],
   "source": [
    "### Task 2: Remove outliers\n",
    "# Removing column from database if counter > 72\n",
    "\n",
    "for column, series in df.iteritems():\n",
    "    if series.isnull().sum() > 72:\n",
    "        df.drop(column, axis=1, inplace=True)\n",
    "# Drop email address column\n",
    "if 'email_address' in list(df.columns.values):\n",
    "    df.drop('email_address', axis=1, inplace=True)\n",
    "df.head()"
   ]
  },
  {
   "cell_type": "code",
   "execution_count": 59,
   "metadata": {
    "collapsed": false
   },
   "outputs": [
    {
     "name": "stdout",
     "output_type": "stream",
     "text": [
      "[  1.36977555e+00   1.00022360e+00   6.40127075e-01   0.00000000e+00\n",
      "   9.11065435e-01   1.00018990e+00   0.00000000e+00   1.38722597e+00\n",
      "   0.00000000e+00   7.38051640e-01   4.89525461e-01   1.08068651e+00\n",
      "   9.30736476e-01   9.64214320e-01   0.00000000e+00   0.00000000e+00\n",
      "   1.08051051e+00   9.42375082e-01   1.08057042e+00   2.38703765e-01\n",
      "   0.00000000e+00   1.33720768e+00   1.01647571e+00   0.00000000e+00\n",
      "   0.00000000e+00   1.13880839e+00   0.00000000e+00   7.03716254e-01\n",
      "   0.00000000e+00   7.99966927e-01   9.33189271e-01   0.00000000e+00\n",
      "   8.66267287e-01   0.00000000e+00   6.82457449e-01   0.00000000e+00\n",
      "   7.93087866e-01   0.00000000e+00   0.00000000e+00   0.00000000e+00\n",
      "   0.00000000e+00   8.39960592e-01   1.02510355e+00   1.27054033e+00\n",
      "   8.11040079e-01   7.88264660e-01   0.00000000e+00   0.00000000e+00\n",
      "   1.02186062e+00   1.78623393e-03   0.00000000e+00   1.00761569e+00\n",
      "   1.60566328e+00   7.93297571e-01   0.00000000e+00   7.71866508e-01\n",
      "   6.52503392e-01   1.91117295e+00   1.36696701e+00   0.00000000e+00\n",
      "   1.36743510e+00   6.09562628e-01   0.00000000e+00   8.85466493e-01\n",
      "   0.00000000e+00   4.01554750e+00   9.79305562e-01   1.23230669e+00\n",
      "   0.00000000e+00   6.92395950e-01   7.19017201e-01   9.86409306e-01\n",
      "   9.83600762e-01   0.00000000e+00   0.00000000e+00   1.40099533e+00\n",
      "   1.04328419e+00   0.00000000e+00   7.45788242e-01   0.00000000e+00\n",
      "   3.62639191e-01   3.02641203e-01   8.01367454e-01   7.88983647e-01\n",
      "   8.31677260e-01   1.65029292e+00   0.00000000e+00   8.99441808e-01\n",
      "   1.57516624e+00   1.03017765e+00   0.00000000e+00   1.17692220e+00\n",
      "   3.55527958e-01   0.00000000e+00   8.96869181e-01   4.16135587e+00\n",
      "   0.00000000e+00   0.00000000e+00   0.00000000e+00   2.47713574e-02\n",
      "   2.45293358e+00   0.00000000e+00   0.00000000e+00   1.51413471e+00\n",
      "   1.00000000e+02   0.00000000e+00   9.73613580e-01   1.18911128e+00\n",
      "   0.00000000e+00   7.56265983e-01   9.29238586e-01   0.00000000e+00\n",
      "   0.00000000e+00   0.00000000e+00   0.00000000e+00   0.00000000e+00\n",
      "   2.86093263e-01   9.84068853e-01   0.00000000e+00   9.80402767e-01\n",
      "   9.28755517e-01   0.00000000e+00   8.58605579e-01   8.68574037e-01\n",
      "   8.27595509e-01   5.93175710e-01   0.00000000e+00   9.36555779e-01\n",
      "   1.84380908e+00   3.97289882e+00   9.80664898e-01   8.97502040e-01\n",
      "   0.00000000e+00   0.00000000e+00   1.14059837e+00   1.16066261e+00\n",
      "   0.00000000e+00   3.19327699e-01   9.26212848e-01   1.30873279e+00\n",
      "   1.23780394e+00   0.00000000e+00   1.55476872e+00   9.93153556e-01\n",
      "   1.04328419e+00   1.02970582e+00]\n"
     ]
    },
    {
     "name": "stderr",
     "output_type": "stream",
     "text": [
      "/home/aakarsh/anaconda/lib/python2.7/site-packages/sklearn/preprocessing/data.py:324: DeprecationWarning: Passing 1d arrays as data is deprecated in 0.17 and will raise ValueError in 0.19. Reshape your data either using X.reshape(-1, 1) if your data has a single feature or X.reshape(1, -1) if it contains a single sample.\n",
      "  warnings.warn(DEPRECATION_MSG_1D, DeprecationWarning)\n",
      "/home/aakarsh/anaconda/lib/python2.7/site-packages/sklearn/preprocessing/data.py:359: DeprecationWarning: Passing 1d arrays as data is deprecated in 0.17 and will raise ValueError in 0.19. Reshape your data either using X.reshape(-1, 1) if your data has a single feature or X.reshape(1, -1) if it contains a single sample.\n",
      "  warnings.warn(DEPRECATION_MSG_1D, DeprecationWarning)\n"
     ]
    }
   ],
   "source": [
    "### Task 3: Create new feature(s)\n",
    "poi_ratio = (df['from_poi_to_this_person'] + df['from_this_person_to_poi']) / (df['from_messages'] + df['to_messages'])\n",
    "fraction_to_poi = (df['from_this_person_to_poi']) / (df['from_messages'])\n",
    "fraction_from_poi = (df['from_poi_to_this_person']) / (df['to_messages'])\n",
    "scale = sklearn.preprocessing.MinMaxScaler(feature_range=(0, 100), copy=True)\n",
    "\n",
    "df['poi_ratio'] = pandas.Series(poi_ratio) * 100\n",
    "df['fraction_to_poi'] = pandas.Series(fraction_to_poi) * 100\n",
    "df['fraction_from_poi'] = pandas.Series(fraction_from_poi) * 100\n",
    "\n",
    "df.replace(to_replace='NaN', value=numpy.nan, inplace=True)\n",
    "df= df.replace(to_replace=numpy.nan, value=0)\n",
    "df = df.fillna(0).copy(deep=True)\n",
    "df.columns = list(df.columns.values)\n",
    "salary_scaled = scale.fit_transform(df['salary'])\n",
    "print salary_scaled       \n"
   ]
  },
  {
   "cell_type": "code",
   "execution_count": 60,
   "metadata": {
    "collapsed": false
   },
   "outputs": [
    {
     "name": "stdout",
     "output_type": "stream",
     "text": [
      "bonus                      0\n",
      "exercised_stock_options    0\n",
      "expenses                   0\n",
      "from_messages              0\n",
      "from_poi_to_this_person    0\n",
      "from_this_person_to_poi    0\n",
      "other                      0\n",
      "poi                        0\n",
      "restricted_stock           0\n",
      "salary                     0\n",
      "shared_receipt_with_poi    0\n",
      "to_messages                0\n",
      "total_payments             0\n",
      "total_stock_value          0\n",
      "poi_ratio                  0\n",
      "fraction_to_poi            0\n",
      "fraction_from_poi          0\n",
      "dtype: int64\n"
     ]
    }
   ],
   "source": [
    "print df.isnull().sum()\n",
    "   "
   ]
  },
  {
   "cell_type": "code",
   "execution_count": 61,
   "metadata": {
    "collapsed": false
   },
   "outputs": [
    {
     "data": {
      "text/html": [
       "<div>\n",
       "<table border=\"1\" class=\"dataframe\">\n",
       "  <thead>\n",
       "    <tr style=\"text-align: right;\">\n",
       "      <th></th>\n",
       "      <th>bonus</th>\n",
       "      <th>exercised_stock_options</th>\n",
       "      <th>expenses</th>\n",
       "      <th>from_messages</th>\n",
       "      <th>from_poi_to_this_person</th>\n",
       "      <th>from_this_person_to_poi</th>\n",
       "      <th>other</th>\n",
       "      <th>poi</th>\n",
       "      <th>restricted_stock</th>\n",
       "      <th>salary</th>\n",
       "      <th>shared_receipt_with_poi</th>\n",
       "      <th>to_messages</th>\n",
       "      <th>total_payments</th>\n",
       "      <th>total_stock_value</th>\n",
       "      <th>poi_ratio</th>\n",
       "      <th>fraction_to_poi</th>\n",
       "      <th>fraction_from_poi</th>\n",
       "    </tr>\n",
       "  </thead>\n",
       "  <tbody>\n",
       "    <tr>\n",
       "      <th>0</th>\n",
       "      <td>600000.0</td>\n",
       "      <td>0.0</td>\n",
       "      <td>94299.0</td>\n",
       "      <td>29.0</td>\n",
       "      <td>38.0</td>\n",
       "      <td>1.0</td>\n",
       "      <td>1740.0</td>\n",
       "      <td>False</td>\n",
       "      <td>585062.0</td>\n",
       "      <td>365788.0</td>\n",
       "      <td>702.0</td>\n",
       "      <td>807.0</td>\n",
       "      <td>1061827.0</td>\n",
       "      <td>585062.0</td>\n",
       "      <td>4.665072</td>\n",
       "      <td>3.448276</td>\n",
       "      <td>4.708798</td>\n",
       "    </tr>\n",
       "    <tr>\n",
       "      <th>1</th>\n",
       "      <td>1200000.0</td>\n",
       "      <td>6680544.0</td>\n",
       "      <td>11200.0</td>\n",
       "      <td>0.0</td>\n",
       "      <td>0.0</td>\n",
       "      <td>0.0</td>\n",
       "      <td>2660303.0</td>\n",
       "      <td>False</td>\n",
       "      <td>3942714.0</td>\n",
       "      <td>267102.0</td>\n",
       "      <td>0.0</td>\n",
       "      <td>0.0</td>\n",
       "      <td>5634343.0</td>\n",
       "      <td>10623258.0</td>\n",
       "      <td>0.000000</td>\n",
       "      <td>0.000000</td>\n",
       "      <td>0.000000</td>\n",
       "    </tr>\n",
       "    <tr>\n",
       "      <th>2</th>\n",
       "      <td>350000.0</td>\n",
       "      <td>4890344.0</td>\n",
       "      <td>78552.0</td>\n",
       "      <td>0.0</td>\n",
       "      <td>0.0</td>\n",
       "      <td>0.0</td>\n",
       "      <td>12961.0</td>\n",
       "      <td>False</td>\n",
       "      <td>1788391.0</td>\n",
       "      <td>170941.0</td>\n",
       "      <td>0.0</td>\n",
       "      <td>0.0</td>\n",
       "      <td>211725.0</td>\n",
       "      <td>6678735.0</td>\n",
       "      <td>0.000000</td>\n",
       "      <td>0.000000</td>\n",
       "      <td>0.000000</td>\n",
       "    </tr>\n",
       "    <tr>\n",
       "      <th>3</th>\n",
       "      <td>0.0</td>\n",
       "      <td>651850.0</td>\n",
       "      <td>0.0</td>\n",
       "      <td>12.0</td>\n",
       "      <td>10.0</td>\n",
       "      <td>0.0</td>\n",
       "      <td>0.0</td>\n",
       "      <td>False</td>\n",
       "      <td>386335.0</td>\n",
       "      <td>0.0</td>\n",
       "      <td>58.0</td>\n",
       "      <td>764.0</td>\n",
       "      <td>0.0</td>\n",
       "      <td>1038185.0</td>\n",
       "      <td>1.288660</td>\n",
       "      <td>0.000000</td>\n",
       "      <td>1.308901</td>\n",
       "    </tr>\n",
       "    <tr>\n",
       "      <th>4</th>\n",
       "      <td>1500000.0</td>\n",
       "      <td>5538001.0</td>\n",
       "      <td>34039.0</td>\n",
       "      <td>32.0</td>\n",
       "      <td>32.0</td>\n",
       "      <td>21.0</td>\n",
       "      <td>11350.0</td>\n",
       "      <td>True</td>\n",
       "      <td>853064.0</td>\n",
       "      <td>243293.0</td>\n",
       "      <td>1035.0</td>\n",
       "      <td>1045.0</td>\n",
       "      <td>288682.0</td>\n",
       "      <td>6391065.0</td>\n",
       "      <td>4.921077</td>\n",
       "      <td>65.625000</td>\n",
       "      <td>3.062201</td>\n",
       "    </tr>\n",
       "  </tbody>\n",
       "</table>\n",
       "</div>"
      ],
      "text/plain": [
       "       bonus  exercised_stock_options  expenses  from_messages  \\\n",
       "0   600000.0                      0.0   94299.0           29.0   \n",
       "1  1200000.0                6680544.0   11200.0            0.0   \n",
       "2   350000.0                4890344.0   78552.0            0.0   \n",
       "3        0.0                 651850.0       0.0           12.0   \n",
       "4  1500000.0                5538001.0   34039.0           32.0   \n",
       "\n",
       "   from_poi_to_this_person  from_this_person_to_poi      other    poi  \\\n",
       "0                     38.0                      1.0     1740.0  False   \n",
       "1                      0.0                      0.0  2660303.0  False   \n",
       "2                      0.0                      0.0    12961.0  False   \n",
       "3                     10.0                      0.0        0.0  False   \n",
       "4                     32.0                     21.0    11350.0   True   \n",
       "\n",
       "   restricted_stock    salary  shared_receipt_with_poi  to_messages  \\\n",
       "0          585062.0  365788.0                    702.0        807.0   \n",
       "1         3942714.0  267102.0                      0.0          0.0   \n",
       "2         1788391.0  170941.0                      0.0          0.0   \n",
       "3          386335.0       0.0                     58.0        764.0   \n",
       "4          853064.0  243293.0                   1035.0       1045.0   \n",
       "\n",
       "   total_payments  total_stock_value  poi_ratio  fraction_to_poi  \\\n",
       "0       1061827.0           585062.0   4.665072         3.448276   \n",
       "1       5634343.0         10623258.0   0.000000         0.000000   \n",
       "2        211725.0          6678735.0   0.000000         0.000000   \n",
       "3             0.0          1038185.0   1.288660         0.000000   \n",
       "4        288682.0          6391065.0   4.921077        65.625000   \n",
       "\n",
       "   fraction_from_poi  \n",
       "0           4.708798  \n",
       "1           0.000000  \n",
       "2           0.000000  \n",
       "3           1.308901  \n",
       "4           3.062201  "
      ]
     },
     "execution_count": 61,
     "metadata": {},
     "output_type": "execute_result"
    }
   ],
   "source": [
    "df.head()"
   ]
  },
  {
   "cell_type": "code",
   "execution_count": 62,
   "metadata": {
    "collapsed": false
   },
   "outputs": [
    {
     "name": "stdout",
     "output_type": "stream",
     "text": [
      "{'salary': 365788.0, 'to_messages': 807.0, 'total_payments': 1061827.0, 'fraction_from_poi': 4.708798017348203, 'bonus': 600000.0, 'poi_ratio': 4.6650717703349285, 'total_stock_value': 585062.0, 'expenses': 94299.0, 'fraction_to_poi': 3.4482758620689653, 'exercised_stock_options': 0.0, 'from_messages': 29.0, 'other': 1740.0, 'from_this_person_to_poi': 1.0, 'poi': False, 'shared_receipt_with_poi': 702.0, 'restricted_stock': 585062.0, 'from_poi_to_this_person': 38.0}\n",
      "bonus\n"
     ]
    }
   ],
   "source": [
    "### Store to my_dataset for easy export below.\n",
    "my_dataset = data_dict\n",
    "print df.to_dict(orient=\"index\")[0]\n",
    "print df.keys()[0]\n",
    "labels = df['poi'].copy(deep=True).astype(int).as_matrix()\n",
    "features = (df.drop('poi', axis=1)).fillna(0).copy(deep=True).as_matrix()"
   ]
  },
  {
   "cell_type": "code",
   "execution_count": 81,
   "metadata": {
    "collapsed": false
   },
   "outputs": [],
   "source": [
    "def evaluate_clf(clf, features, labels, num_iters=1000, test_size=0.3):\n",
    "    print clf\n",
    "    accuracy = []\n",
    "    precision = []\n",
    "    recall = []\n",
    "    first = True\n",
    "    for trial in range(num_iters):\n",
    "        features_train, features_test, labels_train, labels_test = cross_validation.train_test_split(features, labels, \n",
    "\ttest_size=0.3, random_state=42)  ### Extract features and labels from dataset for local testing\n",
    "        clf.fit(features_train, labels_train)\n",
    "        pred = clf.predict(features_test)\n",
    "        accuracy.append(accuracy_score(labels_test, pred))\n",
    "        precision.append(precision_score(labels_test, pred))\n",
    "        recall.append(recall_score(labels_test, pred))\n",
    "        if trial % 10 == 0:\n",
    "            if first:\n",
    "                sys.stdout.write('\\nProcessing')\n",
    "            sys.stdout.write('.')\n",
    "            sys.stdout.flush()\n",
    "            first = False\n",
    "\n",
    "    print \"done.\\n\"\n",
    "    print \"precision: {}\".format(mean(precision))\n",
    "    print \"recall:    {}\".format(mean(recall))\n",
    "    print \"accuracy:    {}\".format(mean(accuracy))\n",
    "    return mean(accuracy), mean(precision), mean(recall)"
   ]
  },
  {
   "cell_type": "code",
   "execution_count": 82,
   "metadata": {
    "collapsed": false
   },
   "outputs": [],
   "source": [
    "### Task 4: Try a varity of classifiers\n",
    "### Please name your classifier clf for easy export below.\n",
    "### Note that if you want to do PCA or other multi-stage operations,\n",
    "### you'll need to use Pipelines. For more info:\n",
    "### http://scikit-learn.org/stable/modules/pipeline.html\n",
    "\n",
    "from sklearn.cluster import KMeans\n",
    "k_clf = Pipeline(steps=[\n",
    "        ('scaler', StandardScaler()),\n",
    "('classifier',  KMeans(n_clusters=2, tol=0.001))])"
   ]
  },
  {
   "cell_type": "code",
   "execution_count": 83,
   "metadata": {
    "collapsed": false,
    "scrolled": true
   },
   "outputs": [
    {
     "name": "stdout",
     "output_type": "stream",
     "text": [
      "Pipeline(steps=[('scaler', StandardScaler(copy=True, with_mean=True, with_std=True)), ('classifier', KMeans(copy_x=True, init='k-means++', max_iter=300, n_clusters=2, n_init=10,\n",
      "    n_jobs=1, precompute_distances='auto', random_state=None, tol=0.001,\n",
      "    verbose=0))])\n",
      "\n",
      "Processing....................................................................................................done.\n",
      "\n",
      "precision: 0.00193181818182\n",
      "recall:    0.017\n",
      "accuracy:    0.873227272727\n"
     ]
    },
    {
     "data": {
      "text/plain": [
       "(0.87322727272727296, 0.0019318181818181817, 0.017000000000000001)"
      ]
     },
     "execution_count": 83,
     "metadata": {},
     "output_type": "execute_result"
    }
   ],
   "source": [
    "evaluate_clf(k_clf, features, labels)"
   ]
  },
  {
   "cell_type": "code",
   "execution_count": 66,
   "metadata": {
    "collapsed": true
   },
   "outputs": [],
   "source": [
    "from sklearn.ensemble import RandomForestClassifier\n",
    "rf_clf = Pipeline(steps=[\n",
    "        ('scaler', StandardScaler()),\n",
    "('classifier',  RandomForestClassifier(max_depth = 5,max_features = 'sqrt',n_estimators = 10, random_state = 42))])\n"
   ]
  },
  {
   "cell_type": "code",
   "execution_count": 67,
   "metadata": {
    "collapsed": false
   },
   "outputs": [
    {
     "name": "stdout",
     "output_type": "stream",
     "text": [
      "Pipeline(steps=[('scaler', StandardScaler(copy=True, with_mean=True, with_std=True)), ('classifier', RandomForestClassifier(bootstrap=True, class_weight=None, criterion='gini',\n",
      "            max_depth=5, max_features='sqrt', max_leaf_nodes=None,\n",
      "            min_samples_leaf=1, min_samples_split=2,\n",
      "            min_weight_fraction_leaf=0.0, n_estimators=10, n_jobs=1,\n",
      "            oob_score=False, random_state=42, verbose=0, warm_start=False))])\n",
      "\n",
      "Processing....................................................................................................done.\n",
      "\n",
      "precision: 1.0\n",
      "recall:    0.2\n",
      "accuracy:    0.909090909091\n"
     ]
    },
    {
     "data": {
      "text/plain": [
       "(0.90909090909090873, 1.0, 0.20000000000000004)"
      ]
     },
     "execution_count": 67,
     "metadata": {},
     "output_type": "execute_result"
    }
   ],
   "source": [
    "evaluate_clf(rf_clf, features, labels)"
   ]
  },
  {
   "cell_type": "code",
   "execution_count": 68,
   "metadata": {
    "collapsed": true
   },
   "outputs": [],
   "source": [
    "from sklearn.ensemble import AdaBoostClassifier\n",
    "ab_clf = Pipeline(steps=[\n",
    "        ('scaler', StandardScaler()),\n",
    "('classifier',  AdaBoostClassifier(n_estimators=100))])"
   ]
  },
  {
   "cell_type": "code",
   "execution_count": 69,
   "metadata": {
    "collapsed": false
   },
   "outputs": [
    {
     "name": "stdout",
     "output_type": "stream",
     "text": [
      "Pipeline(steps=[('scaler', StandardScaler(copy=True, with_mean=True, with_std=True)), ('classifier', AdaBoostClassifier(algorithm='SAMME.R', base_estimator=None,\n",
      "          learning_rate=1.0, n_estimators=100, random_state=None))])\n",
      "\n",
      "Processing....................................................................................................done.\n",
      "\n",
      "precision: 0.375\n",
      "recall:    0.6\n",
      "accuracy:    0.840909090909\n"
     ]
    },
    {
     "data": {
      "text/plain": [
       "(0.84090909090909127, 0.375, 0.59999999999999976)"
      ]
     },
     "execution_count": 69,
     "metadata": {},
     "output_type": "execute_result"
    }
   ],
   "source": [
    "evaluate_clf(ab_clf, features, labels)"
   ]
  },
  {
   "cell_type": "code",
   "execution_count": 70,
   "metadata": {
    "collapsed": false
   },
   "outputs": [],
   "source": [
    "from sklearn.linear_model import LogisticRegression\n",
    "l_clf = Pipeline(steps=[\n",
    "        ('scaler', StandardScaler()),\n",
    "('classifier', LogisticRegression(tol = 0.001, C = 10**-8, penalty = 'l2', random_state = 42))])"
   ]
  },
  {
   "cell_type": "code",
   "execution_count": 71,
   "metadata": {
    "collapsed": false
   },
   "outputs": [
    {
     "name": "stdout",
     "output_type": "stream",
     "text": [
      "Pipeline(steps=[('scaler', StandardScaler(copy=True, with_mean=True, with_std=True)), ('classifier', LogisticRegression(C=1e-08, class_weight=None, dual=False, fit_intercept=True,\n",
      "          intercept_scaling=1, max_iter=100, multi_class='ovr', n_jobs=1,\n",
      "          penalty='l2', random_state=42, solver='liblinear', tol=0.001,\n",
      "          verbose=0, warm_start=False))])\n",
      "\n",
      "Processing....................................................................................................done.\n",
      "\n",
      "precision: 0.25\n",
      "recall:    0.6\n",
      "accuracy:    0.75\n"
     ]
    },
    {
     "data": {
      "text/plain": [
       "(0.75, 0.25, 0.59999999999999976)"
      ]
     },
     "execution_count": 71,
     "metadata": {},
     "output_type": "execute_result"
    }
   ],
   "source": [
    "evaluate_clf(l_clf, features, labels)"
   ]
  },
  {
   "cell_type": "code",
   "execution_count": 74,
   "metadata": {
    "collapsed": false
   },
   "outputs": [],
   "source": [
    "#selecting adaboost as the final algorithm due to most accurate and relevant results.\n",
    "clf = ab_clf\n",
    "my_features_list=list(df.columns.values)"
   ]
  },
  {
   "cell_type": "code",
   "execution_count": 75,
   "metadata": {
    "collapsed": false
   },
   "outputs": [],
   "source": [
    "pickle.dump(clf, open(\"../data/my_classifier.pkl\", \"w\"))\n",
    "pickle.dump(my_dataset, open(\"../data/my_dataset.pkl\", \"w\"))\n",
    "pickle.dump(my_features_list, open(\"../data/my_feature_list.pkl\", \"w\"))"
   ]
  },
  {
   "cell_type": "code",
   "execution_count": null,
   "metadata": {
    "collapsed": true
   },
   "outputs": [],
   "source": []
  }
 ],
 "metadata": {
  "anaconda-cloud": {},
  "kernelspec": {
   "display_name": "Python [default]",
   "language": "python",
   "name": "python2"
  },
  "language_info": {
   "codemirror_mode": {
    "name": "ipython",
    "version": 2
   },
   "file_extension": ".py",
   "mimetype": "text/x-python",
   "name": "python",
   "nbconvert_exporter": "python",
   "pygments_lexer": "ipython2",
   "version": "2.7.12"
  }
 },
 "nbformat": 4,
 "nbformat_minor": 1
}
