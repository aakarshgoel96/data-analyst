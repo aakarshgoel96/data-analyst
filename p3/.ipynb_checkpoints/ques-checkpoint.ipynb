{
 "cells": [
  {
   "cell_type": "markdown",
   "metadata": {},
   "source": [
    "# Data Wrangling with MongoDB\n",
    "\n",
    "### OpenStreetMap Sample Project\n",
    "\n",
    "#### Map Area: Honolulu, Hawaii, United States\n",
    "\n",
    "http://www.openstreetmap.org/#map=10/21.4860/-157.9710\n",
    "\n"
   ]
  },
  {
   "cell_type": "code",
   "execution_count": 44,
   "metadata": {
    "collapsed": true
   },
   "outputs": [],
   "source": [
    "#importing all necessary files\n",
    "import os\n",
    "import xml.etree.cElementTree as ET\n",
    "from collections import defaultdict\n",
    "import pprint\n",
    "import re\n",
    "import codecs\n",
    "import json\n",
    "import string\n",
    "from pymongo import MongoClient"
   ]
  },
  {
   "cell_type": "code",
   "execution_count": 45,
   "metadata": {
    "collapsed": false
   },
   "outputs": [],
   "source": [
    "#Fetching osm data in python variable map_data\n",
    "datadir = \"\"\n",
    "datafile = \"honolulu_hawaii.osm\"\n",
    "map_data = os.path.join(datadir, datafile)"
   ]
  },
  {
   "cell_type": "markdown",
   "metadata": {},
   "source": [
    "##  Problems Encountered in the Map(Auditing)"
   ]
  },
  {
   "cell_type": "markdown",
   "metadata": {
    "collapsed": false
   },
   "source": [
    "#### Description of Map tags"
   ]
  },
  {
   "cell_type": "raw",
   "metadata": {},
   "source": [
    "{'bounds': 1,\n",
    " 'member': 1612,\n",
    " 'nd': 288004,\n",
    " 'node': 242190,\n",
    " 'osm': 1,\n",
    " 'relation': 384,\n",
    " 'tag': 117607,\n",
    " 'way': 25500}"
   ]
  },
  {
   "cell_type": "markdown",
   "metadata": {},
   "source": [
    "Here we founded that there are 242190 nodes, 117607 tags, 25500 ways and 384 relation."
   ]
  },
  {
   "cell_type": "code",
   "execution_count": 47,
   "metadata": {
    "collapsed": false
   },
   "outputs": [
    {
     "data": {
      "text/plain": [
       "464"
      ]
     },
     "execution_count": 47,
     "metadata": {},
     "output_type": "execute_result"
    }
   ],
   "source": [
    "#people invovlved in the map editing.\n",
    "def process_map(filename):           \n",
    "    users = set()\n",
    "    for _, element in ET.iterparse(filename):        ##iterating through unique userid to find number of users involved\n",
    "        for e in element:\n",
    "            if 'uid' in e.attrib:\n",
    "                users.add(e.attrib['uid'])\n",
    "    return users\n",
    "users = process_map(map_data)\n",
    "len(users)"
   ]
  },
  {
   "cell_type": "code",
   "execution_count": 48,
   "metadata": {
    "collapsed": true
   },
   "outputs": [],
   "source": [
    "lower = re.compile(r'^([a-z]|_)*$')                    # Regular Expressions for different cases matching\n",
    "lower_colon = re.compile(r'^([a-z]|_)*:([a-z]|_)*$')\n",
    "problemchars = re.compile(r'[=\\+/&<>;\\'\"\\?%#$@\\,\\. \\t\\r\\n]')\n",
    "street_type_re = re.compile(r'\\b\\S+\\.?$', re.IGNORECASE)"
   ]
  },
  {
   "cell_type": "markdown",
   "metadata": {},
   "source": [
    ">These expressions are used for validating a string in particular format. "
   ]
  },
  {
   "cell_type": "code",
   "execution_count": 49,
   "metadata": {
    "collapsed": true
   },
   "outputs": [],
   "source": [
    "# initial expected street names\n",
    "expected = [\"Street\", \"Avenue\", \"Boulevard\",\"Broadway\",\"Drive\", \"Court\", \"Place\", \"Square\", \"Lane\",\n",
    "            \"Road\", \"Trail\", \"Parkway\"]"
   ]
  },
  {
   "cell_type": "markdown",
   "metadata": {},
   "source": [
    ">Initially we consider some common words as expected street names."
   ]
  },
  {
   "cell_type": "markdown",
   "metadata": {},
   "source": [
    "### Auditing Problems associating with street name abbreviations"
   ]
  },
  {
   "cell_type": "raw",
   "metadata": {
    "collapsed": false
   },
   "source": [
    "{'106': set(['Pualei Cir, Apt 106']),\n",
    " 'Ave': set(['Kalakaua Ave']),\n",
    " 'Blvd': set(['Ala Moana Blvd']),\n",
    " 'Center': set(['Enchanted Lakes Shopping Center']),\n",
    " 'Circle': set(['Delay Circle', 'Papu Circle', 'Pualei Circle']),\n",
    " 'Dr': set(['Kipapa Dr']),\n",
    " 'Highway': set(['Farrington Highway',\n",
    "                 \"Kalaniana'ole Highway\",\n",
    "                 'Kalanianaole Highway',\n",
    "                 u'Kalaniana\\u2019ole Highway',\n",
    "                 'Kamehameha Highway',\n",
    "                 'Nimitz Highway',\n",
    "                 'Pali Highway']),\n",
    " 'Honolulu': set(['Moanalua, Honolulu']),\n",
    " 'Hwy': set(['Kamehameha Hwy']),\n",
    " 'Ike': set(['Ala Ike']),\n",
    " 'Kailua,': set(['Kaelepulu Dr, Kailua,']),\n",
    " 'King': set(['South King']),\n",
    " 'Loop': set(['98-402 Koauka Loop',\n",
    "              '98-410 Koauka Loop',\n",
    "              '98-500 Koauka Loop',\n",
    "              '98-501 Koauka Loop']),\n",
    " 'Mall': set(['Fort Street Mall', 'McCarthy Mall']),\n",
    " 'Momi': set(['Pali Momi']),\n",
    " 'Pkwy': set(['Meheula Pkwy']),\n",
    " 'St': set(['Ala Pumalu St', 'Lusitania St']),\n",
    " 'St.': set(['Lusitania St.']),\n",
    " 'Terrace': set(['Round Top Terrace']),\n",
    " 'Walk': set(['Beach Walk']),\n",
    " 'Way': set(['Ainakea Way',\n",
    "             'Coelho Way',\n",
    "             'Kuaaina Way',\n",
    "             'Pualani Way',\n",
    "             'Wai Nani Way']),\n",
    " 'highway': set(['kanehameha highway']),\n",
    " 'king': set(['king'])}"
   ]
  },
  {
   "cell_type": "markdown",
   "metadata": {},
   "source": [
    ">We found that lot of abbreviations are used in the street names.\n",
    "\n",
    ">So some fix of names is required for that which can be done by mapping abbreviations to their full form."
   ]
  },
  {
   "cell_type": "code",
   "execution_count": 52,
   "metadata": {
    "collapsed": false
   },
   "outputs": [],
   "source": [
    "mapping={  'Ave'  : 'Avenue',             #mapping abbreviations to their full form\n",
    "           'Ave.' : 'Avenue',\n",
    "           'Apt'  : 'Apartment',\n",
    "           'Blvd' : 'Boulevard',\n",
    "           'Dr'   : 'Drive',\n",
    "           'Ln'   : 'Lane',\n",
    "           'Pkwy' : 'Parkway',\n",
    "           'Rd'   : 'Road',\n",
    "           'Rd.'  : 'Road',\n",
    "           'St'   : 'Street',\n",
    "           'street' :\"Street\",\n",
    "           'Ct'   : \"Court\",\n",
    "           'Cir'  : \"Circle\",\n",
    "           'Cr'   : \"Court\",\n",
    "           'ave'  : 'Avenue',\n",
    "           'Hwg'  : 'Highway',\n",
    "           'Hwy'  : 'Highway',\n",
    "           'St.'  : 'Street',\n",
    "           'Sq'   : \"Square\",\n",
    "           '420'  : \"420\",\n",
    "           'Ext'  : \"Extension\",\n",
    "        }"
   ]
  },
  {
   "cell_type": "code",
   "execution_count": 53,
   "metadata": {
    "collapsed": false
   },
   "outputs": [
    {
     "name": "stdout",
     "output_type": "stream",
     "text": [
      "Ala Ike => Ala Ike\n",
      "Lusitania St. => Lusitania Street\n",
      "Pualani Way => Pualani Way\n",
      "Wai Nani Way => Wai Nani Way\n",
      "Kuaaina Way => Kuaaina Way\n",
      "Ainakea Way => Ainakea Way\n",
      "Coelho Way => Coelho Way\n",
      "Papu Circle => Papu Circle\n",
      "Pualei Circle => Pualei Circle\n",
      "Delay Circle => Delay Circle\n",
      "Pali Highway => Pali Highway\n",
      "Farrington Highway => Farrington Highway\n",
      "Kamehameha Highway => Kamehameha Highway\n",
      "Kalaniana’ole Highway => Kalaniana’ole Highway\n",
      "Kalanianaole Highway => Kalanianaole Highway\n",
      "Kalaniana'ole Highway => Kalaniana'ole Highway\n",
      "Nimitz Highway => Nimitz Highway\n",
      "Pali Momi => Pali Momi\n",
      "Moanalua, Honolulu => Moanalua, Honolulu\n",
      "Kamehameha Hwy => Kamehameha Highway\n",
      "Kaelepulu Dr, Kailua, => Kaelepulu Dr, Kailua,\n",
      "Kipapa Dr => Kipapa Drive\n",
      "kanehameha highway => kanehameha highway\n",
      "South King => South King\n",
      "Enchanted Lakes Shopping Center => Enchanted Lakes Shopping Center\n",
      "Meheula Pkwy => Meheula Parkway\n",
      "Fort Street Mall => Fort Street Mall\n",
      "McCarthy Mall => McCarthy Mall\n",
      "Ala Pumalu St => Ala Pumalu Street\n",
      "Lusitania St => Lusitania Street\n",
      "Pualei Cir, Apt 106 => Pualei Cir, Apt 106\n",
      "98-501 Koauka Loop => 98-501 Koauka Loop\n",
      "98-500 Koauka Loop => 98-500 Koauka Loop\n",
      "98-402 Koauka Loop => 98-402 Koauka Loop\n",
      "98-410 Koauka Loop => 98-410 Koauka Loop\n",
      "king => king\n",
      "Beach Walk => Beach Walk\n",
      "Round Top Terrace => Round Top Terrace\n",
      "Ala Moana Blvd => Ala Moana Boulevard\n",
      "Kalakaua Ave => Kalakaua Avenue\n"
     ]
    }
   ],
   "source": [
    "#updating street names to correct form\n",
    "def update_name(name, mapping, regex):                         \n",
    "    m = regex.search(name)\n",
    "    if m:\n",
    "        street_type = m.group()\n",
    "        if street_type in mapping:\n",
    "            name = re.sub(regex, mapping[street_type], name)     #replacing abbreviation with mapped value\n",
    "\n",
    "    return name\n",
    "\n",
    "for street_type, ways in st_types.iteritems():       #iterating through all the street names and fixing it\n",
    "    for name in ways:\n",
    "        better_name = update_name(name, mapping, street_type_re)\n",
    "        print name, \"=>\", better_name\n"
   ]
  },
  {
   "cell_type": "markdown",
   "metadata": {},
   "source": [
    ">All abbreviations in street names are fixed by mapping."
   ]
  },
  {
   "cell_type": "markdown",
   "metadata": {},
   "source": [
    "### Problems in zip codes"
   ]
  },
  {
   "cell_type": "raw",
   "metadata": {
    "collapsed": false
   },
   "source": [
    "defaultdict(set,                                     # These all zipcodes are not in proper format\n",
    "            {'96': {'96712-9998',\n",
    "              '96734-9998',\n",
    "              '96815-2518',\n",
    "              '96815-2830',\n",
    "              '96815-2834',\n",
    "              '96817-1713',\n",
    "              '96825-9998',\n",
    "              '96826-4427'},\n",
    "             'HI': {'HI 96819'}})"
   ]
  },
  {
   "cell_type": "markdown",
   "metadata": {},
   "source": [
    ">Some zip codes contain hypen b/w them.\n",
    "\n",
    ">One type of zip code contain text."
   ]
  },
  {
   "cell_type": "raw",
   "metadata": {
    "collapsed": false
   },
   "source": [
    "def update_zip(zipcode):                          # Fixing zip codes in case it don't match the desired pattern.\n",
    "    return (re.findall(r'\\d{5}', zipcode))[0]\n",
    "for street_type, ways in map_zipcode.iteritems():\n",
    "    for name in ways:\n",
    "        better_name = update_zip(name)\n",
    "        print name, \"=>\", better_name"
   ]
  },
  {
   "cell_type": "raw",
   "metadata": {},
   "source": [
    "HI 96819 => 96819\n",
    "96815-2518 => 96815\n",
    "96734-9998 => 96734\n",
    "96826-4427 => 96826\n",
    "96817-1713 => 96817\n",
    "96815-2830 => 96815\n",
    "96815-2834 => 96815\n",
    "96712-9998 => 96712\n",
    "96825-9998 => 96825\n"
   ]
  },
  {
   "cell_type": "markdown",
   "metadata": {},
   "source": [
    ">Zip code errors were solved i.e removing hypen and text characters."
   ]
  },
  {
   "cell_type": "markdown",
   "metadata": {},
   "source": [
    "## Formatting data in required json Format"
   ]
  },
  {
   "cell_type": "raw",
   "metadata": {
    "collapsed": false
   },
   "source": [
    "CREATED = [ \"version\", \"changeset\", \"timestamp\", \"user\", \"uid\"]    #created field for json object\n",
    "# Here data is processed into above fields types in Json format."
   ]
  },
  {
   "cell_type": "raw",
   "metadata": {
    "collapsed": false
   },
   "source": [
    "# process the file\n",
    "data = process_map(map_data, True)"
   ]
  },
  {
   "cell_type": "raw",
   "metadata": {
    "collapsed": false
   },
   "source": [
    "#Above method shapes the data in following JSON Format\n",
    "data[352]\n",
    "\n",
    "{'created': {'changeset': '3561802',\n",
    "  'timestamp': '2010-01-07T13:30:40Z',\n",
    "  'uid': '147510',\n",
    "  'user': 'woodpeck_fixbot',\n",
    "  'version': '2'},\n",
    " 'id': '110502291',\n",
    " 'pos': [21.385667, -158.102447],\n",
    " 'type': 'node'}"
   ]
  },
  {
   "cell_type": "markdown",
   "metadata": {},
   "source": [
    "## Storing processed json data to MongoDB"
   ]
  },
  {
   "cell_type": "code",
   "execution_count": 77,
   "metadata": {
    "collapsed": true
   },
   "outputs": [],
   "source": [
    "client = MongoClient()      # making mongodb connection importing json data to mongo db locally\n",
    "db = client.honolulu\n",
    "collection = db.honolulu\n",
    "#collection.insert(data)       #insertion is done one time only ucomment it if haven't inserted."
   ]
  },
  {
   "cell_type": "code",
   "execution_count": 78,
   "metadata": {
    "collapsed": false
   },
   "outputs": [
    {
     "data": {
      "text/plain": [
       "Collection(Database(MongoClient(host=['localhost:27017'], document_class=dict, tz_aware=False, connect=True), u'honolulu'), u'honolulu')"
      ]
     },
     "execution_count": 78,
     "metadata": {},
     "output_type": "execute_result"
    }
   ],
   "source": [
    "collection         #collection named honolulu for this data"
   ]
  },
  {
   "cell_type": "markdown",
   "metadata": {},
   "source": [
    "## Data Overview with MongoDB"
   ]
  },
  {
   "cell_type": "code",
   "execution_count": 79,
   "metadata": {
    "collapsed": false
   },
   "outputs": [
    {
     "data": {
      "text/plain": [
       "50"
      ]
     },
     "execution_count": 79,
     "metadata": {},
     "output_type": "execute_result"
    }
   ],
   "source": [
    "os.path.getsize(map_data)/1024/1024        #Size of xml file in MB"
   ]
  },
  {
   "cell_type": "code",
   "execution_count": 80,
   "metadata": {
    "collapsed": false
   },
   "outputs": [
    {
     "data": {
      "text/plain": [
       "72"
      ]
     },
     "execution_count": 80,
     "metadata": {},
     "output_type": "execute_result"
    }
   ],
   "source": [
    "os.path.getsize(\"honolulu_hawaii.osm.json\")/1024/1024      #Size Of json file in MB"
   ]
  },
  {
   "cell_type": "code",
   "execution_count": 81,
   "metadata": {
    "collapsed": false
   },
   "outputs": [
    {
     "data": {
      "text/plain": [
       "267690"
      ]
     },
     "execution_count": 81,
     "metadata": {},
     "output_type": "execute_result"
    }
   ],
   "source": [
    "collection.find().count()      #Total number of documents inside Mongo DB collection honolulu"
   ]
  },
  {
   "cell_type": "code",
   "execution_count": 82,
   "metadata": {
    "collapsed": false
   },
   "outputs": [
    {
     "data": {
      "text/plain": [
       "461"
      ]
     },
     "execution_count": 82,
     "metadata": {},
     "output_type": "execute_result"
    }
   ],
   "source": [
    "# Number of unique users\n",
    "len(collection.group([\"created.uid\"], {}, {\"count\":0}, \"function(o, p){p.count++}\"))\n"
   ]
  },
  {
   "cell_type": "code",
   "execution_count": 83,
   "metadata": {
    "collapsed": false
   },
   "outputs": [
    {
     "data": {
      "text/plain": [
       "242159"
      ]
     },
     "execution_count": 83,
     "metadata": {},
     "output_type": "execute_result"
    }
   ],
   "source": [
    "# Number of nodes\n",
    "collection.find({\"type\":\"node\"}).count()"
   ]
  },
  {
   "cell_type": "code",
   "execution_count": 84,
   "metadata": {
    "collapsed": false
   },
   "outputs": [
    {
     "data": {
      "text/plain": [
       "25495"
      ]
     },
     "execution_count": 84,
     "metadata": {},
     "output_type": "execute_result"
    }
   ],
   "source": [
    "# Number of ways\n",
    "collection.find({\"type\":\"way\"}).count()"
   ]
  },
  {
   "cell_type": "code",
   "execution_count": 85,
   "metadata": {
    "collapsed": false
   },
   "outputs": [
    {
     "data": {
      "text/plain": [
       "[{u'_id': u'Tom_Holland', u'count': 102211},\n",
       " {u'_id': u'cbbaze', u'count': 14995},\n",
       " {u'_id': u'ikiya', u'count': 12807},\n",
       " {u'_id': u'kr4z33', u'count': 9470},\n",
       " {u'_id': u'Chris Lawrence', u'count': 9214}]"
      ]
     },
     "execution_count": 85,
     "metadata": {},
     "output_type": "execute_result"
    }
   ],
   "source": [
    "#Top five users with most contributions\n",
    "pipeline = [{\"$group\":{\"_id\": \"$created.user\",     \n",
    "                       \"count\": {\"$sum\": 1}}},\n",
    "            {\"$sort\": {\"count\": -1}},\n",
    "            {\"$limit\": 5}]\n",
    "result = collection.aggregate(pipeline)\n",
    "x=list(result)\n",
    "x\n"
   ]
  },
  {
   "cell_type": "markdown",
   "metadata": {},
   "source": [
    "this shows that Tom_Holland is most active user."
   ]
  },
  {
   "cell_type": "code",
   "execution_count": 86,
   "metadata": {
    "collapsed": false
   },
   "outputs": [
    {
     "data": {
      "text/plain": [
       "[{u'_id': u'Tom_Holland', u'proportion': 0.3818259927528111},\n",
       " {u'_id': u'cbbaze', u'proportion': 0.05601628749673129},\n",
       " {u'_id': u'ikiya', u'proportion': 0.04784265381598117},\n",
       " {u'_id': u'kr4z33', u'proportion': 0.03537674175352087},\n",
       " {u'_id': u'Chris Lawrence', u'proportion': 0.03442041167021555}]"
      ]
     },
     "execution_count": 86,
     "metadata": {},
     "output_type": "execute_result"
    }
   ],
   "source": [
    "#Proportion of the top user contributions\n",
    "top_user_prop = [{\"$group\":{\"_id\": \"$created.user\",\n",
    "                       \"count\": {\"$sum\": 1}}},\n",
    "            {\"$project\": {\"proportion\": {\"$divide\" :[\"$count\",collection.find().count()]}}},\n",
    "            {\"$sort\": {\"proportion\": -1}},\n",
    "            {\"$limit\": 5}]\n",
    "result = list(collection.aggregate(top_user_prop))\n",
    "result"
   ]
  },
  {
   "cell_type": "markdown",
   "metadata": {},
   "source": [
    "38% contribution was alone by Tom_Holland and others have very less compared to him."
   ]
  },
  {
   "cell_type": "markdown",
   "metadata": {},
   "source": [
    "## Additional Ideas and further exploration"
   ]
  },
  {
   "cell_type": "code",
   "execution_count": 87,
   "metadata": {
    "collapsed": false
   },
   "outputs": [
    {
     "data": {
      "text/plain": [
       "[{u'_id': u'parking', u'count': 391},\n",
       " {u'_id': u'restaurant', u'count': 218},\n",
       " {u'_id': u'fast_food', u'count': 112},\n",
       " {u'_id': u'school', u'count': 85},\n",
       " {u'_id': u'toilets', u'count': 75},\n",
       " {u'_id': u'cafe', u'count': 64},\n",
       " {u'_id': u'place_of_worship', u'count': 38},\n",
       " {u'_id': u'library', u'count': 38},\n",
       " {u'_id': u'fire_station', u'count': 36},\n",
       " {u'_id': u'college', u'count': 29}]"
      ]
     },
     "execution_count": 87,
     "metadata": {},
     "output_type": "execute_result"
    }
   ],
   "source": [
    "#Most common amenities in the area\n",
    "aminity=[{\"$match\":{\"amenity\":{\"$exists\":1}}},\n",
    "                              {\"$group\":{\"_id\":\"$amenity\",\"count\":{\"$sum\":1}}},\n",
    "                              {\"$sort\":{\"count\":-1}},{\"$limit\":10}]\n",
    "result=list(collection.aggregate(aminity))\n",
    "result"
   ]
  },
  {
   "cell_type": "markdown",
   "metadata": {},
   "source": [
    "Most frequent amenities are parking, restaurant, fast_food respectively."
   ]
  },
  {
   "cell_type": "code",
   "execution_count": 88,
   "metadata": {
    "collapsed": false
   },
   "outputs": [
    {
     "data": {
      "text/plain": [
       "[{u'_id': u'surface', u'count': 135},\n",
       " {u'_id': u'multi-storey', u'count': 54},\n",
       " {u'_id': u'underground', u'count': 3}]"
      ]
     },
     "execution_count": 88,
     "metadata": {},
     "output_type": "execute_result"
    }
   ],
   "source": [
    "# Types of parking and their frequency \n",
    "pipeline = [{\"$match\":{\"amenity\":{\"$exists\":1}, \"amenity\":\"parking\", \"parking\":{\"$exists\":1}}}, \n",
    "            {\"$group\":{\"_id\":\"$parking\", \"count\":{\"$sum\":1}}},        \n",
    "            {\"$sort\":{\"count\":-1}}, \n",
    "            {\"$limit\":10}]\n",
    "result = list(collection.aggregate(pipeline))\n",
    "result"
   ]
  },
  {
   "cell_type": "markdown",
   "metadata": {},
   "source": [
    "Surface Parking is mostly performed so good road parking facilities in the area"
   ]
  },
  {
   "cell_type": "code",
   "execution_count": 89,
   "metadata": {
    "collapsed": false
   },
   "outputs": [
    {
     "data": {
      "text/plain": [
       "[{u'_id': u'pizza', u'count': 8},\n",
       " {u'_id': u'japanese', u'count': 7},\n",
       " {u'_id': u'regional', u'count': 6},\n",
       " {u'_id': u'chinese', u'count': 5},\n",
       " {u'_id': u'american', u'count': 5},\n",
       " {u'_id': u'international', u'count': 4},\n",
       " {u'_id': u'thai', u'count': 4},\n",
       " {u'_id': u'italian', u'count': 3},\n",
       " {u'_id': u'asian', u'count': 3},\n",
       " {u'_id': u'indian', u'count': 2}]"
      ]
     },
     "execution_count": 89,
     "metadata": {},
     "output_type": "execute_result"
    }
   ],
   "source": [
    "#cuisines in restaurants\n",
    "pipeline = [{\"$match\":{\"amenity\":{\"$exists\":1}, \"amenity\":\"restaurant\", \"cuisine\":{\"$exists\":1}}}, \n",
    "            {\"$group\":{\"_id\":\"$cuisine\", \"count\":{\"$sum\":1}}},        \n",
    "            {\"$sort\":{\"count\":-1}}, \n",
    "            {\"$limit\":10}]\n",
    "result = list(collection.aggregate(pipeline))\n",
    "result"
   ]
  },
  {
   "cell_type": "markdown",
   "metadata": {},
   "source": [
    "In restaurant most popular cuisine is Pizzas."
   ]
  },
  {
   "cell_type": "code",
   "execution_count": 90,
   "metadata": {
    "collapsed": false
   },
   "outputs": [
    {
     "data": {
      "text/plain": [
       "[{u'_id': u'burger', u'count': 18},\n",
       " {u'_id': u'sandwich', u'count': 5},\n",
       " {u'_id': u'mexican', u'count': 4},\n",
       " {u'_id': u'pizza', u'count': 3},\n",
       " {u'_id': u'sushi', u'count': 3},\n",
       " {u'_id': u'ice_cream', u'count': 1},\n",
       " {u'_id': u'asian', u'count': 1},\n",
       " {u'_id': u'american', u'count': 1},\n",
       " {u'_id': u'hawaiian', u'count': 1},\n",
       " {u'_id': u'regional', u'count': 1}]"
      ]
     },
     "execution_count": 90,
     "metadata": {},
     "output_type": "execute_result"
    }
   ],
   "source": [
    "#cuisines in fast_food\n",
    "pipeline = [{\"$match\":{\"amenity\":{\"$exists\":1}, \"amenity\":\"fast_food\", \"cuisine\":{\"$exists\":1}}}, \n",
    "            {\"$group\":{\"_id\":\"$cuisine\", \"count\":{\"$sum\":1}}},        \n",
    "            {\"$sort\":{\"count\":-1}}, \n",
    "            {\"$limit\":10}]\n",
    "result = list(collection.aggregate(pipeline))\n",
    "result"
   ]
  },
  {
   "cell_type": "markdown",
   "metadata": {},
   "source": [
    "burger is most popular cuisine in fast_food"
   ]
  },
  {
   "cell_type": "code",
   "execution_count": 91,
   "metadata": {
    "collapsed": false
   },
   "outputs": [
    {
     "data": {
      "text/plain": [
       "[{u'_id': u'burger', u'count': 22},\n",
       " {u'_id': u'coffee_shop', u'count': 12},\n",
       " {u'_id': u'pizza', u'count': 11},\n",
       " {u'_id': u'japanese', u'count': 8},\n",
       " {u'_id': u'regional', u'count': 7},\n",
       " {u'_id': u'american', u'count': 7},\n",
       " {u'_id': u'mexican', u'count': 6},\n",
       " {u'_id': u'chinese', u'count': 6},\n",
       " {u'_id': u'sandwich', u'count': 6},\n",
       " {u'_id': u'sushi', u'count': 5}]"
      ]
     },
     "execution_count": 91,
     "metadata": {},
     "output_type": "execute_result"
    }
   ],
   "source": [
    "#Overall cusines of Honolulu\n",
    "pipeline = [{\"$match\":{\"cuisine\":{\"$exists\":1}}}, \n",
    "            {\"$group\":{\"_id\":\"$cuisine\", \"count\":{\"$sum\":1}}},        \n",
    "            {\"$sort\":{\"count\":-1}}, \n",
    "            {\"$limit\":10}]\n",
    "result = list(collection.aggregate(pipeline))\n",
    "result"
   ]
  },
  {
   "cell_type": "markdown",
   "metadata": {},
   "source": [
    "This data shows that most people prefer having Burgers in cuisines"
   ]
  },
  {
   "cell_type": "code",
   "execution_count": 92,
   "metadata": {
    "collapsed": false
   },
   "outputs": [
    {
     "data": {
      "text/plain": [
       "[{u'_id': u'yes', u'count': 3427},\n",
       " {u'_id': u'apartments', u'count': 375},\n",
       " {u'_id': u'house', u'count': 363},\n",
       " {u'_id': u'commercial', u'count': 266},\n",
       " {u'_id': u'school', u'count': 137},\n",
       " {u'_id': u'hangar', u'count': 48},\n",
       " {u'_id': u'hotel', u'count': 44},\n",
       " {u'_id': u'roof', u'count': 40},\n",
       " {u'_id': u'retail', u'count': 28},\n",
       " {u'_id': u'college', u'count': 27}]"
      ]
     },
     "execution_count": 92,
     "metadata": {},
     "output_type": "execute_result"
    }
   ],
   "source": [
    "#different type of buildings in Honolulu dataset\n",
    "pipeline = [{\"$match\":{\"building\":{\"$exists\":1}}}, \n",
    "            {\"$group\":{\"_id\":\"$building\", \"count\":{\"$sum\":1}}},        \n",
    "            {\"$sort\":{\"count\":-1}}, \n",
    "            {\"$limit\":10}]\n",
    "result = list(collection.aggregate(pipeline))\n",
    "result"
   ]
  },
  {
   "cell_type": "markdown",
   "metadata": {},
   "source": [
    "There are huge no of buildings in dataset \n",
    "\n",
    "Most of the building type were unspecified i.e 3427\n",
    "\n",
    "Although most common buildings are apartments, houses and commercial"
   ]
  },
  {
   "cell_type": "code",
   "execution_count": 93,
   "metadata": {
    "collapsed": false
   },
   "outputs": [
    {
     "data": {
      "text/plain": [
       "[{u'_id': u'supermarket', u'count': 73},\n",
       " {u'_id': u'convenience', u'count': 42},\n",
       " {u'_id': u'clothes', u'count': 34},\n",
       " {u'_id': u'department_store', u'count': 13},\n",
       " {u'_id': u'gift', u'count': 11},\n",
       " {u'_id': u'bakery', u'count': 7},\n",
       " {u'_id': u'mall', u'count': 7},\n",
       " {u'_id': u'doityourself', u'count': 6},\n",
       " {u'_id': u'hairdresser', u'count': 5},\n",
       " {u'_id': u'jewelry', u'count': 5}]"
      ]
     },
     "execution_count": 93,
     "metadata": {},
     "output_type": "execute_result"
    }
   ],
   "source": [
    "#Different types of shops in Honolulu\n",
    "pipeline = [{\"$match\":{\"shop\":{\"$exists\":1}}}, \n",
    "            {\"$group\":{\"_id\":\"$shop\", \"count\":{\"$sum\":1}}},        \n",
    "            {\"$sort\":{\"count\":-1}}, \n",
    "            {\"$limit\":10}]\n",
    "result = list(collection.aggregate(pipeline))\n",
    "result"
   ]
  },
  {
   "cell_type": "markdown",
   "metadata": {},
   "source": [
    "So large no. of supermarkets, convenience and clothes stores are there in Honolulu"
   ]
  },
  {
   "cell_type": "code",
   "execution_count": 95,
   "metadata": {
    "collapsed": false
   },
   "outputs": [
    {
     "data": {
      "text/plain": [
       "[{u'_id': u\"Kawaiaha'o Church School\", u'count': 1},\n",
       " {u'_id': u'The Kamehameha Schools', u'count': 1},\n",
       " {u'_id': u'Noelani School', u'count': 1},\n",
       " {u'_id': u\"Ka'elepulu Elementary\", u'count': 1},\n",
       " {u'_id': u'Hawaii School for the Deaf and the Blind', u'count': 1},\n",
       " {u'_id': u'Mililani Ike Elementary School', u'count': 1},\n",
       " {u'_id': u'R. L. Stevenson Middle School', u'count': 1},\n",
       " {u'_id': u'Shade House', u'count': 1},\n",
       " {u'_id': u'Highlands Intermediate School', u'count': 1},\n",
       " {u'_id': u'Mid-Pacific Institute', u'count': 1}]"
      ]
     },
     "execution_count": 95,
     "metadata": {},
     "output_type": "execute_result"
    }
   ],
   "source": [
    "#name of different schools\n",
    "pipeline = [{\"$match\":{\"amenity\":{\"$exists\":1}, \"amenity\": \"school\", \"name\":{\"$exists\":1}}},\n",
    "            {\"$group\":{\"_id\":\"$name\", \"count\":{\"$sum\":1}}},\n",
    "            {\"$sort\":{\"count\":-1}},{\"$limit\":10}]\n",
    "result = list(collection.aggregate(pipeline))\n",
    "result\n"
   ]
  },
  {
   "cell_type": "markdown",
   "metadata": {},
   "source": [
    "There are only single branch of every school in this city."
   ]
  },
  {
   "cell_type": "code",
   "execution_count": 96,
   "metadata": {
    "collapsed": false
   },
   "outputs": [
    {
     "data": {
      "text/plain": [
       "[{u'_id': u'residential', u'count': 6832},\n",
       " {u'_id': u'service', u'count': 4538},\n",
       " {u'_id': u'living_street', u'count': 1759},\n",
       " {u'_id': u'turning_circle', u'count': 1354},\n",
       " {u'_id': u'footway', u'count': 555}]"
      ]
     },
     "execution_count": 96,
     "metadata": {},
     "output_type": "execute_result"
    }
   ],
   "source": [
    "# types of roads or highways\n",
    "pipeline = [{'$match': {'highway': { '$exists': 1}}}, \n",
    "        {'$group': {'_id': '$highway',\n",
    "                    'count': {'$sum': 1}}}, \n",
    "        {'$sort': {'count': -1}},\n",
    "        {'$limit': 5}]\n",
    "result=list(collection.aggregate(pipeline)) \n",
    "result"
   ]
  },
  {
   "cell_type": "markdown",
   "metadata": {},
   "source": [
    "So mostly residential area is there in the city which highway covers"
   ]
  },
  {
   "cell_type": "code",
   "execution_count": 97,
   "metadata": {
    "collapsed": false
   },
   "outputs": [
    {
     "data": {
      "text/plain": [
       "[{u'_id': u'christian', u'count': 25},\n",
       " {u'_id': u'buddhist', u'count': 7},\n",
       " {u'_id': u'muslim', u'count': 1}]"
      ]
     },
     "execution_count": 97,
     "metadata": {},
     "output_type": "execute_result"
    }
   ],
   "source": [
    "# types of religion followed\n",
    "pipeline = [{\"$match\":{\"religion\":{\"$exists\":1}}},\n",
    "                      {\"$group\":{\"_id\":\"$religion\", \"count\":{\"$sum\":1}}},\n",
    "                      {\"$sort\":{\"count\":-1}}]\n",
    "result=list(collection.aggregate(pipeline)) \n",
    "result"
   ]
  },
  {
   "cell_type": "markdown",
   "metadata": {},
   "source": [
    "So mostly Christian religion is followed ...\n",
    "\n",
    "### Additional Idea\n",
    "\n",
    "For improving the database some validations should be applied while filling the information in specific way like some format or user interface should be provided to enter the data with inbuilt valdiations and warnings.\n",
    "This interface will consist of all general formats information like pincode should be of 5 digits all numeric.\n",
    "But validation also depends on location like in India pincode is of 6 digits therefore some changes are also necessary based on location.\n",
    "\n",
    "And also user who contributed most should be displayed on the website so that others also try to contribute more by getting motivation from his/her work.\n",
    "If there will be competitive environment then everyone will try their best in terms of quantity as well as quality of the data.\n",
    "\n",
    ">From above two ideas firstly data is entered in more proper format.\n",
    "\n",
    ">Secondly contribution and quality increases if you give some credit to persons who contributed more."
   ]
  },
  {
   "cell_type": "markdown",
   "metadata": {},
   "source": [
    "# Conclusion"
   ]
  },
  {
   "cell_type": "markdown",
   "metadata": {},
   "source": [
    "From Data Wrangling on Honolulu, Hawai, USA openstreet data of size greater than 50 MB I found that:\n",
    "\n",
    "464 people were involved in its map editing out of which 1 contributed the most around 38%.\n",
    "\n",
    "Some errors in street name abbreviations and zip codes were found while auditing the dataset which were fixed by mapping.\n",
    "\n",
    "Parking is most frequent amenity in the area and in parking surface parking is most common.\n",
    "\n",
    "People there are fond of pizzas and burgers and other fast food items and drinking coffee is also very common practice.\n",
    "\n",
    "There are many supermarkets, clothing shopping stores and big buildings in the city.\n",
    "\n",
    "Mostly Christians are there in that area.\n",
    "\n",
    "So data must have lots of other hidden information as any type of tag is allowed and could be more further explored."
   ]
  },
  {
   "cell_type": "markdown",
   "metadata": {},
   "source": [
    "## Refrences"
   ]
  },
  {
   "cell_type": "markdown",
   "metadata": {},
   "source": [
    "https://docs.google.com/document/d/1F0Vs14oNEs2idFJR3C_OPxwS6L0HPliOii-QpbmrMo4/pub#h.ueey7dly83g7\n",
    "\n",
    "https://mapzen.com/data/metro-extracts/metro/honolulu_hawaii/\n",
    "\n",
    "Case study of lectures\n",
    "\n",
    "http://wiki.openstreetmap.org/wiki/"
   ]
  },
  {
   "cell_type": "code",
   "execution_count": null,
   "metadata": {
    "collapsed": true
   },
   "outputs": [],
   "source": []
  }
 ],
 "metadata": {
  "anaconda-cloud": {},
  "kernelspec": {
   "display_name": "Python [default]",
   "language": "python",
   "name": "python2"
  },
  "language_info": {
   "codemirror_mode": {
    "name": "ipython",
    "version": 2
   },
   "file_extension": ".py",
   "mimetype": "text/x-python",
   "name": "python",
   "nbconvert_exporter": "python",
   "pygments_lexer": "ipython2",
   "version": "2.7.12"
  }
 },
 "nbformat": 4,
 "nbformat_minor": 1
}
